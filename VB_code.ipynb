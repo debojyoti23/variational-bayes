{
 "cells": [
  {
   "cell_type": "markdown",
   "metadata": {},
   "source": [
    "## Import section. Use tensorflow 1.0"
   ]
  },
  {
   "cell_type": "code",
   "execution_count": 1,
   "metadata": {
    "collapsed": false
   },
   "outputs": [],
   "source": [
    "%matplotlib inline\n",
    "from __future__ import absolute_import\n",
    "from __future__ import division\n",
    "from __future__ import print_function\n",
    "\n",
    "import edward as ed\n",
    "import matplotlib.pyplot as plt\n",
    "import numpy as np\n",
    "import tensorflow as tf\n",
    "\n",
    "from edward.models import Normal,Bernoulli,Beta,Categorical,InverseGamma\n",
    "\n",
    "plt.style.use('ggplot')"
   ]
  },
  {
   "cell_type": "markdown",
   "metadata": {},
   "source": [
    "## Building models"
   ]
  },
  {
   "cell_type": "code",
   "execution_count": 2,
   "metadata": {
    "collapsed": false
   },
   "outputs": [],
   "source": [
    "x = Normal(mu=tf.constant(0.0),sigma=tf.constant(1.0))\n",
    "Normal(mu=tf.zeros(5), sigma=tf.ones(5))\n",
    "y = tf.constant(5.0)"
   ]
  },
  {
   "cell_type": "markdown",
   "metadata": {},
   "source": [
    "### Generative model, Beta Bernoulli"
   ]
  },
  {
   "cell_type": "code",
   "execution_count": 3,
   "metadata": {
    "collapsed": false
   },
   "outputs": [
    {
     "data": {
      "text/plain": [
       "<ed.RandomVariable 'Bernoulli/' shape=(50,) dtype=int32>"
      ]
     },
     "execution_count": 3,
     "metadata": {},
     "output_type": "execute_result"
    }
   ],
   "source": [
    "theta = Beta(a=1.0, b=1.0)\n",
    "x = Bernoulli(p=tf.ones(50) * theta)\n",
    "x"
   ]
  },
  {
   "cell_type": "markdown",
   "metadata": {},
   "source": [
    "## Regression model"
   ]
  },
  {
   "cell_type": "code",
   "execution_count": 4,
   "metadata": {
    "collapsed": false
   },
   "outputs": [],
   "source": [
    "# Populate data\n",
    "def build_dataset(N,w,noise_std = 0.1):\n",
    "    D = len(w)\n",
    "    x = np.random.randn(N,D)\n",
    "    y = np.dot(x,w) + np.random.normal(0,noise_std,size=N)\n",
    "    return x,y\n",
    "\n",
    "N = 40  # number of data points\n",
    "D = 10  # number of features\n",
    "w_true = np.random.randn(D)\n",
    "X_train, y_train = build_dataset(N,w_true)\n",
    "X_test, y_test = build_dataset(N,w_true)"
   ]
  },
  {
   "cell_type": "code",
   "execution_count": 5,
   "metadata": {
    "collapsed": false
   },
   "outputs": [],
   "source": [
    "# Build Model\n",
    "X = tf.placeholder(tf.float32, [N, D])\n",
    "w = Normal(mu=tf.zeros(D), sigma=tf.ones(D))\n",
    "b = Normal(mu=tf.zeros(1), sigma=tf.ones(1))\n",
    "y = Normal(mu=ed.dot(X, w) + b, sigma=tf.ones(N))"
   ]
  },
  {
   "cell_type": "code",
   "execution_count": 6,
   "metadata": {
    "collapsed": true
   },
   "outputs": [],
   "source": [
    "# Inference\n",
    "qw = Normal(mu=tf.Variable(tf.random_normal([D])),sigma=tf.nn.softplus(tf.Variable(tf.random_normal([D]))))\n",
    "qb = Normal(mu=tf.Variable(tf.random_normal([1])),sigma=tf.nn.softplus(tf.Variable(tf.random_normal([1]))))"
   ]
  },
  {
   "cell_type": "code",
   "execution_count": 7,
   "metadata": {
    "collapsed": false
   },
   "outputs": [
    {
     "name": "stdout",
     "output_type": "stream",
     "text": [
      "250/250 [100%] ██████████████████████████████ Elapsed: 0s | Loss: 62.671\n"
     ]
    }
   ],
   "source": [
    "inference = ed.KLqp(latent_vars = {w: qw, b: qb}, data={X: X_train, y: y_train})\n",
    "inference.run(n_samples=5, n_iter=250)"
   ]
  },
  {
   "cell_type": "code",
   "execution_count": 8,
   "metadata": {
    "collapsed": false
   },
   "outputs": [
    {
     "data": {
      "text/plain": [
       "8.9091434"
      ]
     },
     "execution_count": 8,
     "metadata": {},
     "output_type": "execute_result"
    }
   ],
   "source": [
    "# Predictive posterior\n",
    "y_post = ed.copy(y,{w:qw,b:qb})\n",
    "# Evaluation\n",
    "ed.evaluate('mean_squared_error',data={X:X_train,y:y_post})"
   ]
  },
  {
   "cell_type": "markdown",
   "metadata": {},
   "source": [
    "## Mixture model"
   ]
  },
  {
   "cell_type": "code",
   "execution_count": 9,
   "metadata": {
    "collapsed": false
   },
   "outputs": [],
   "source": [
    "# Populate data\n",
    "def build_mixture_dataset(N):\n",
    "    pi = np.array([0.3,0.2,0.5])\n",
    "    mus = [[1,1],[1,-1],[-1,-1]]\n",
    "    stds = [[0.1,0.1],[0.1,0.1],[0.1,0.1]]\n",
    "    x = np.zeros((N,2), dtype=np.float32)\n",
    "    y = np.zeros((N,1), dtype=np.int)\n",
    "    for n in range(N):\n",
    "        k = np.argmax(np.random.multinomial(1,pi))\n",
    "        x[n,:] = np.random.multivariate_normal(mus[k],np.diag(stds[k]))\n",
    "        y[n]=k\n",
    "    return x,y\n",
    "\n",
    "N = 1000\n",
    "D = 2\n",
    "K = 3\n",
    "beta = Normal\n",
    "x_train,y_train = build_mixture_dataset(N)\n",
    "y_ph = tf.placeholder(tf.int16,[N,1])"
   ]
  },
  {
   "cell_type": "code",
   "execution_count": 10,
   "metadata": {
    "collapsed": false
   },
   "outputs": [
    {
     "data": {
      "image/png": "[encoded data removed]",
      "text/plain": [
       "<matplotlib.figure.Figure at 0x7f42a8574a90>"
      ]
     },
     "metadata": {},
     "output_type": "display_data"
    }
   ],
   "source": [
    "plt.scatter(x_train[:, 0], x_train[:, 1])\n",
    "plt.axis([-3, 3, -3, 3])\n",
    "plt.show()"
   ]
  },
  {
   "cell_type": "markdown",
   "metadata": {},
   "source": [
    "## SVI without subsampling"
   ]
  },
  {
   "cell_type": "code",
   "execution_count": 11,
   "metadata": {
    "collapsed": false
   },
   "outputs": [
    {
     "name": "stdout",
     "output_type": "stream",
     "text": [
      "1000/1000 [100%] ██████████████████████████████ Elapsed: 28s | Loss: -29.010\n"
     ]
    }
   ],
   "source": [
    "# Type 1\n",
    "mu = Normal(mu=tf.zeros([K, D]), sigma=tf.ones([K, D]))\n",
    "sigma = InverseGamma(alpha=tf.ones([K, D]), beta=tf.ones([K, D]))\n",
    "c = Categorical(logits=tf.zeros([N, K]))\n",
    "x = Normal(mu=tf.gather(mu, c), sigma=tf.gather(sigma, c))\n",
    "\n",
    "qmu = Normal(\n",
    "    mu=tf.Variable(tf.random_normal([K, D])),\n",
    "    sigma=tf.nn.softplus(tf.Variable(tf.zeros([K, D]))))\n",
    "qsigma = InverseGamma(\n",
    "    alpha=tf.nn.softplus(tf.Variable(tf.random_normal([K, D]))),\n",
    "    beta=tf.nn.softplus(tf.Variable(tf.random_normal([K, D]))))\n",
    "\n",
    "# inference = ed.inferences.VariationalInference({mu:qmu, sigma:qsigma}, data={x:x_train}) #abstract class\n",
    "inference = ed.KLpq({mu:qmu, sigma:qsigma}, data={x:x_train})\n",
    "inference.run(n_samples=100,n_iter=1000)\n",
    "\n",
    "# inference = ed.inferences.ScoreKLqp({mu:qmu, sigma:qsigma}, data={x:x_train})\n",
    "# inference.run(n_samples=100,n_iter=1000)"
   ]
  },
  {
   "cell_type": "markdown",
   "metadata": {},
   "source": [
    "### Criticism"
   ]
  },
  {
   "cell_type": "code",
   "execution_count": 12,
   "metadata": {
    "collapsed": false
   },
   "outputs": [
    {
     "data": {
      "text/plain": [
       "-1.5317492"
      ]
     },
     "execution_count": 12,
     "metadata": {},
     "output_type": "execute_result"
    }
   ],
   "source": [
    "# Predictive posterior\n",
    "x_post = ed.copy(x,{mu:qmu,sigma:qsigma})\n",
    "# Evaluation\n",
    "ed.evaluate('log_likelihood',data={x_post:x_train})"
   ]
  },
  {
   "cell_type": "code",
   "execution_count": 13,
   "metadata": {
    "collapsed": false
   },
   "outputs": [
    {
     "data": {
      "image/png": "[encoded data removed]",
      "text/plain": [
       "<matplotlib.figure.Figure at 0x7f425d9aef98>"
      ]
     },
     "metadata": {},
     "output_type": "display_data"
    }
   ],
   "source": [
    "# Visualization of prediction\n",
    "import matplotlib.cm as cm\n",
    "\n",
    "mu_sample = qmu.sample(100)\n",
    "sigma_sample = qsigma.sample(100)\n",
    "x_post = Normal(mu=tf.ones([N,1,1,1])*mu_sample,sigma=tf.ones([N,1,1,1])*tf.sqrt(sigma_sample))\n",
    "x_broadcasted = tf.tile(tf.reshape(x_train,[N,1,1,D]),[1,100,K,1])\n",
    "\n",
    "log_liks = x_post.log_prob(x_broadcasted)\n",
    "log_liks = tf.reduce_sum(log_liks, 3)\n",
    "log_liks = tf.reduce_mean(log_liks, 1)\n",
    "\n",
    "clusters = tf.argmax(log_liks, 1).eval()\n",
    "\n",
    "plt.scatter(x_train[:, 0], x_train[:, 1], c=clusters)\n",
    "plt.axis([-3, 3, -3, 3])\n",
    "plt.title(\"Predicted cluster assignments\")\n",
    "plt.show()"
   ]
  },
  {
   "cell_type": "markdown",
   "metadata": {},
   "source": [
    "## Stochastic VB with subsampling"
   ]
  },
  {
   "cell_type": "code",
   "execution_count": 14,
   "metadata": {
    "collapsed": false
   },
   "outputs": [],
   "source": [
    "M = 128  # minibatch size\n",
    "beta = Normal(mu=tf.zeros([K, D]), sigma=tf.ones([K, D]))\n",
    "z = Categorical(logits=tf.zeros([M, K]))\n",
    "x = Normal(mu=tf.gather(beta, z), sigma=tf.ones([M, D]))\n",
    "\n",
    "qbeta = Normal(mu=tf.Variable(tf.zeros([K, D])),\n",
    "               sigma=tf.nn.softplus(tf.Variable(tf.zeros([K, D]))))\n",
    "qz_variables = tf.Variable(tf.zeros([M, K]))\n",
    "qz = Categorical(logits=qz_variables)\n",
    "\n",
    "x_ph = tf.placeholder(tf.float32, [M,2])\n",
    "inference_global = ed.KLqp({beta: qbeta}, data={x: x_ph, z: qz})\n",
    "inference_local = ed.KLqp({z: qz}, data={x: x_ph, beta: qbeta})"
   ]
  },
  {
   "cell_type": "code",
   "execution_count": 15,
   "metadata": {
    "collapsed": false
   },
   "outputs": [],
   "source": [
    "inference_global.initialize(scale={x: float(N) / M, z: float(N) / M})\n",
    "inference_local.initialize(scale={x: float(N) / M, z: float(N) / M})"
   ]
  },
  {
   "cell_type": "code",
   "execution_count": 16,
   "metadata": {
    "collapsed": false
   },
   "outputs": [
    {
     "name": "stdout",
     "output_type": "stream",
     "text": [
      "WARNING:tensorflow:From <ipython-input-16-93a529d649f1>:7: initialize_all_variables (from tensorflow.python.ops.variables) is deprecated and will be removed after 2017-03-02.\n",
      "Instructions for updating:\n",
      "Use `tf.global_variables_initializer` instead.\n"
     ]
    }
   ],
   "source": [
    "def next_batch(x,M):\n",
    "    ind = np.random.permutation(len(x_train))\n",
    "    ind=ind[:M]\n",
    "    return x[ind]\n",
    "\n",
    "qz_init = tf.variables_initializer([qz_variables])\n",
    "tf.initialize_all_variables().run()\n",
    "\n",
    "for _ in range(500):\n",
    "    x_batch = next_batch(x_train,M)\n",
    "    for _ in range(10):  # make local inferences\n",
    "        inference_local.update(feed_dict={x_ph: x_batch})\n",
    "    # update global parameters\n",
    "    inference_global.update(feed_dict={x_ph: x_batch})\n",
    "    # reinitialize the local factors\n",
    "    qz_init.run()"
   ]
  },
  {
   "cell_type": "markdown",
   "metadata": {},
   "source": [
    "## Criticism"
   ]
  },
  {
   "cell_type": "code",
   "execution_count": 17,
   "metadata": {
    "collapsed": false
   },
   "outputs": [
    {
     "data": {
      "text/plain": [
       "-1.4699172"
      ]
     },
     "execution_count": 17,
     "metadata": {},
     "output_type": "execute_result"
    }
   ],
   "source": [
    "# Predictive posterior\n",
    "x_post = ed.copy(x,{z:qz,beta:qbeta})\n",
    "x_test = x_train[:M]\n",
    "y_test = y_train[:M]\n",
    "# Evaluation\n",
    "ed.evaluate('log_likelihood',data={x_post:x_test})"
   ]
  }
 ],
 "metadata": {
  "anaconda-cloud": {},
  "kernelspec": {
   "display_name": "Python [default]",
   "language": "python",
   "name": "python3"
  },
  "language_info": {
   "codemirror_mode": {
    "name": "ipython",
    "version": 3
   },
   "file_extension": ".py",
   "mimetype": "text/x-python",
   "name": "python",
   "nbconvert_exporter": "python",
   "pygments_lexer": "ipython3",
   "version": "3.5.2"
  }
 },
 "nbformat": 4,
 "nbformat_minor": 1
}
